{
 "cells": [
  {
   "cell_type": "code",
   "execution_count": 0,
   "metadata": {
    "collapsed": false
   },
   "outputs": [
   ],
   "source": [
    "def maxi_area(height):\n",
    "   max_water = 0\n",
    "   left_pointer, right_pointer = 0, len(height)-1\n",
    "   \n",
    "   while left_pointer<right_pointer:\n",
    "      height_left, height_right = height[left_pointer],height[right_pointer]\n",
    "      width = right_pointer - left_pointer\n",
    "      current_vol = min(height_left, height_right)*width\n",
    "      max_water = max(max_water, current_vol)\n",
    "      \n",
    "      if height_left < height_right:\n",
    "         left_pointer += 1\n",
    "      else:\n",
    "         right_pointer -= 1\n",
    "   return f'INPUT: height = {height}\\nOutput: {max_water}'\n",
    "   \n",
    "height = [1,1]\n",
    "result = maxi_area(height)\n",
    "print(result)"
   ]
  }
 ],
 "metadata": {
  "kernelspec": {
   "argv": [
    "/usr/bin/python3",
    "-m",
    "ipykernel",
    "--HistoryManager.enabled=False",
    "--matplotlib=inline",
    "-c",
    "%config InlineBackend.figure_formats = set(['retina'])\nimport matplotlib; matplotlib.rcParams['figure.figsize'] = (12, 7)",
    "-f",
    "{connection_file}"
   ],
   "display_name": "Python 3 (system-wide)",
   "env": {
   },
   "language": "python",
   "metadata": {
    "cocalc": {
     "description": "Python 3 programming language",
     "priority": 100,
     "url": "https://www.python.org/"
    }
   },
   "name": "python3",
   "resource_dir": "/ext/jupyter/kernels/python3"
  }
 },
 "nbformat": 4,
 "nbformat_minor": 4
}